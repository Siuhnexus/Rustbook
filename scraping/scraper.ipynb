{
 "cells": [
  {
   "cell_type": "code",
   "execution_count": 1,
   "metadata": {},
   "outputs": [],
   "source": [
    "import requests\n",
    "from bs4 import BeautifulSoup\n",
    "\n",
    "url = \"https://doc.rust-lang.org/book/\"\n",
    "page = requests.get(url)\n",
    "\n",
    "soup = BeautifulSoup(page.content, \"html.parser\")"
   ]
  },
  {
   "cell_type": "code",
   "execution_count": 2,
   "metadata": {},
   "outputs": [
    {
     "name": "stdout",
     "output_type": "stream",
     "text": [
      "[{'url': 'title-page.html', 'text': 'The Rust Programming Language', 'sections': []}, {'url': 'foreword.html', 'text': 'Foreword', 'sections': []}, {'url': 'ch00-00-introduction.html', 'text': 'Introduction', 'sections': []}, {'url': 'ch01-00-getting-started.html', 'text': '1. Getting Started', 'sections': [{'url': 'ch01-01-installation.html', 'text': '1.1. Installation'}, {'url': 'ch01-02-hello-world.html', 'text': '1.2. Hello, World!'}, {'url': 'ch01-03-hello-cargo.html', 'text': '1.3. Hello, Cargo!'}]}, {'url': 'ch02-00-guessing-game-tutorial.html', 'text': '2. Programming a Guessing Game', 'sections': []}, {'url': 'ch03-00-common-programming-concepts.html', 'text': '3. Common Programming Concepts', 'sections': [{'url': 'ch03-01-variables-and-mutability.html', 'text': '3.1. Variables and Mutability'}, {'url': 'ch03-02-data-types.html', 'text': '3.2. Data Types'}, {'url': 'ch03-03-how-functions-work.html', 'text': '3.3. Functions'}, {'url': 'ch03-04-comments.html', 'text': '3.4. Comments'}, {'url': 'ch03-05-control-flow.html', 'text': '3.5. Control Flow'}]}, {'url': 'ch04-00-understanding-ownership.html', 'text': '4. Understanding Ownership', 'sections': [{'url': 'ch04-01-what-is-ownership.html', 'text': '4.1. What is Ownership?'}, {'url': 'ch04-02-references-and-borrowing.html', 'text': '4.2. References and Borrowing'}, {'url': 'ch04-03-slices.html', 'text': '4.3. The Slice Type'}]}, {'url': 'ch05-00-structs.html', 'text': '5. Using Structs to Structure Related Data', 'sections': [{'url': 'ch05-01-defining-structs.html', 'text': '5.1. Defining and Instantiating Structs'}, {'url': 'ch05-02-example-structs.html', 'text': '5.2. An Example Program Using Structs'}, {'url': 'ch05-03-method-syntax.html', 'text': '5.3. Method Syntax'}]}, {'url': 'ch06-00-enums.html', 'text': '6. Enums and Pattern Matching', 'sections': [{'url': 'ch06-01-defining-an-enum.html', 'text': '6.1. Defining an Enum'}, {'url': 'ch06-02-match.html', 'text': '6.2. The match Control Flow Construct'}, {'url': 'ch06-03-if-let.html', 'text': '6.3. Concise Control Flow with if let'}]}, {'url': 'ch07-00-managing-growing-projects-with-packages-crates-and-modules.html', 'text': '7. Managing Growing Projects with Packages, Crates, and Modules', 'sections': [{'url': 'ch07-01-packages-and-crates.html', 'text': '7.1. Packages and Crates'}, {'url': 'ch07-02-defining-modules-to-control-scope-and-privacy.html', 'text': '7.2. Defining Modules to Control Scope and Privacy'}, {'url': 'ch07-03-paths-for-referring-to-an-item-in-the-module-tree.html', 'text': '7.3. Paths for Referring to an Item in the Module Tree'}, {'url': 'ch07-04-bringing-paths-into-scope-with-the-use-keyword.html', 'text': '7.4. Bringing Paths Into Scope with the use Keyword'}, {'url': 'ch07-05-separating-modules-into-different-files.html', 'text': '7.5. Separating Modules into Different Files'}]}, {'url': 'ch08-00-common-collections.html', 'text': '8. Common Collections', 'sections': [{'url': 'ch08-01-vectors.html', 'text': '8.1. Storing Lists of Values with Vectors'}, {'url': 'ch08-02-strings.html', 'text': '8.2. Storing UTF-8 Encoded Text with Strings'}, {'url': 'ch08-03-hash-maps.html', 'text': '8.3. Storing Keys with Associated Values in Hash Maps'}]}, {'url': 'ch09-00-error-handling.html', 'text': '9. Error Handling', 'sections': [{'url': 'ch09-01-unrecoverable-errors-with-panic.html', 'text': '9.1. Unrecoverable Errors with panic!'}, {'url': 'ch09-02-recoverable-errors-with-result.html', 'text': '9.2. Recoverable Errors with Result'}, {'url': 'ch09-03-to-panic-or-not-to-panic.html', 'text': '9.3. To panic! or Not to panic!'}]}, {'url': 'ch10-00-generics.html', 'text': '10. Generic Types, Traits, and Lifetimes', 'sections': [{'url': 'ch10-01-syntax.html', 'text': '10.1. Generic Data Types'}, {'url': 'ch10-02-traits.html', 'text': '10.2. Traits: Defining Shared Behavior'}, {'url': 'ch10-03-lifetime-syntax.html', 'text': '10.3. Validating References with Lifetimes'}]}, {'url': 'ch11-00-testing.html', 'text': '11. Writing Automated Tests', 'sections': [{'url': 'ch11-01-writing-tests.html', 'text': '11.1. How to Write Tests'}, {'url': 'ch11-02-running-tests.html', 'text': '11.2. Controlling How Tests Are Run'}, {'url': 'ch11-03-test-organization.html', 'text': '11.3. Test Organization'}]}, {'url': 'ch12-00-an-io-project.html', 'text': '12. An I/O Project: Building a Command Line Program', 'sections': [{'url': 'ch12-01-accepting-command-line-arguments.html', 'text': '12.1. Accepting Command Line Arguments'}, {'url': 'ch12-02-reading-a-file.html', 'text': '12.2. Reading a File'}, {'url': 'ch12-03-improving-error-handling-and-modularity.html', 'text': '12.3. Refactoring to Improve Modularity and Error Handling'}, {'url': 'ch12-04-testing-the-librarys-functionality.html', 'text': '12.4. Developing the Library’s Functionality with Test Driven Development'}, {'url': 'ch12-05-working-with-environment-variables.html', 'text': '12.5. Working with Environment Variables'}, {'url': 'ch12-06-writing-to-stderr-instead-of-stdout.html', 'text': '12.6. Writing Error Messages to Standard Error Instead of Standard Output'}]}, {'url': 'ch13-00-functional-features.html', 'text': '13. Functional Language Features: Iterators and Closures', 'sections': [{'url': 'ch13-01-closures.html', 'text': '13.1. Closures: Anonymous Functions that Capture Their Environment'}, {'url': 'ch13-02-iterators.html', 'text': '13.2. Processing a Series of Items with Iterators'}, {'url': 'ch13-03-improving-our-io-project.html', 'text': '13.3. Improving Our I/O Project'}, {'url': 'ch13-04-performance.html', 'text': '13.4. Comparing Performance: Loops vs. Iterators'}]}, {'url': 'ch14-00-more-about-cargo.html', 'text': '14. More about Cargo and Crates.io', 'sections': [{'url': 'ch14-01-release-profiles.html', 'text': '14.1. Customizing Builds with Release Profiles'}, {'url': 'ch14-02-publishing-to-crates-io.html', 'text': '14.2. Publishing a Crate to Crates.io'}, {'url': 'ch14-03-cargo-workspaces.html', 'text': '14.3. Cargo Workspaces'}, {'url': 'ch14-04-installing-binaries.html', 'text': '14.4. Installing Binaries from Crates.io with cargo install'}, {'url': 'ch14-05-extending-cargo.html', 'text': '14.5. Extending Cargo with Custom Commands'}]}, {'url': 'ch15-00-smart-pointers.html', 'text': '15. Smart Pointers', 'sections': [{'url': 'ch15-01-box.html', 'text': '15.1. Using Box<T> to Point to Data on the Heap'}, {'url': 'ch15-02-deref.html', 'text': '15.2. Treating Smart Pointers Like Regular References with the Deref Trait'}, {'url': 'ch15-03-drop.html', 'text': '15.3. Running Code on Cleanup with the Drop Trait'}, {'url': 'ch15-04-rc.html', 'text': '15.4. Rc<T>, the Reference Counted Smart Pointer'}, {'url': 'ch15-05-interior-mutability.html', 'text': '15.5. RefCell<T> and the Interior Mutability Pattern'}, {'url': 'ch15-06-reference-cycles.html', 'text': '15.6. Reference Cycles Can Leak Memory'}]}, {'url': 'ch16-00-concurrency.html', 'text': '16. Fearless Concurrency', 'sections': [{'url': 'ch16-01-threads.html', 'text': '16.1. Using Threads to Run Code Simultaneously'}, {'url': 'ch16-02-message-passing.html', 'text': '16.2. Using Message Passing to Transfer Data Between Threads'}, {'url': 'ch16-03-shared-state.html', 'text': '16.3. Shared-State Concurrency'}, {'url': 'ch16-04-extensible-concurrency-sync-and-send.html', 'text': '16.4. Extensible Concurrency with the Sync and Send Traits'}]}, {'url': 'ch17-00-oop.html', 'text': '17. Object Oriented Programming Features of Rust', 'sections': [{'url': 'ch17-01-what-is-oo.html', 'text': '17.1. Characteristics of Object-Oriented Languages'}, {'url': 'ch17-02-trait-objects.html', 'text': '17.2. Using Trait Objects That Allow for Values of Different Types'}, {'url': 'ch17-03-oo-design-patterns.html', 'text': '17.3. Implementing an Object-Oriented Design Pattern'}]}, {'url': 'ch18-00-patterns.html', 'text': '18. Patterns and Matching', 'sections': [{'url': 'ch18-01-all-the-places-for-patterns.html', 'text': '18.1. All the Places Patterns Can Be Used'}, {'url': 'ch18-02-refutability.html', 'text': '18.2. Refutability: Whether a Pattern Might Fail to Match'}, {'url': 'ch18-03-pattern-syntax.html', 'text': '18.3. Pattern Syntax'}]}, {'url': 'ch19-00-advanced-features.html', 'text': '19. Advanced Features', 'sections': [{'url': 'ch19-01-unsafe-rust.html', 'text': '19.1. Unsafe Rust'}, {'url': 'ch19-03-advanced-traits.html', 'text': '19.2. Advanced Traits'}, {'url': 'ch19-04-advanced-types.html', 'text': '19.3. Advanced Types'}, {'url': 'ch19-05-advanced-functions-and-closures.html', 'text': '19.4. Advanced Functions and Closures'}, {'url': 'ch19-06-macros.html', 'text': '19.5. Macros'}]}, {'url': 'ch20-00-final-project-a-web-server.html', 'text': '20. Final Project: Building a Multithreaded Web Server', 'sections': [{'url': 'ch20-01-single-threaded.html', 'text': '20.1. Building a Single-Threaded Web Server'}, {'url': 'ch20-02-multithreaded.html', 'text': '20.2. Turning Our Single-Threaded Server into a Multithreaded Server'}, {'url': 'ch20-03-graceful-shutdown-and-cleanup.html', 'text': '20.3. Graceful Shutdown and Cleanup'}]}]\n"
     ]
    }
   ],
   "source": [
    "sidebar = soup.find(class_=\"sidebar-scrollbox\")\n",
    "chapters = []\n",
    "currentchapter = None\n",
    "for link in sidebar.find_all(\"a\"):\n",
    "    if link.parent.parent[\"class\"][0] != \"section\":\n",
    "        if currentchapter != None:\n",
    "            chapters.append(currentchapter)\n",
    "        currentchapter = { \"url\": link[\"href\"], \"text\": link.text, \"sections\": [] }\n",
    "    else:\n",
    "        currentchapter[\"sections\"].append({ \"url\": link[\"href\"], \"text\": link.text })\n",
    "print(chapters)"
   ]
  },
  {
   "cell_type": "code",
   "execution_count": 4,
   "metadata": {},
   "outputs": [
    {
     "name": "stdout",
     "output_type": "stream",
     "text": [
      "['img/ferris/does_not_compile.svg', 'img/ferris/panics.svg', 'img/ferris/not_desired_behavior.svg', 'img/trpl04-01.svg', 'img/trpl04-02.svg', 'img/trpl04-03.svg', 'img/trpl04-04.svg', 'img/trpl04-05.svg', 'img/trpl04-06.svg', 'img/trpl04-07.svg', 'img/trpl14-01.png', 'img/trpl14-02.png', 'img/trpl14-03.png', 'img/trpl14-04.png', 'img/trpl15-01.svg', 'img/trpl15-02.svg', 'img/trpl15-03.svg', 'img/trpl15-04.svg', 'img/trpl20-01.png']\n"
     ]
    }
   ],
   "source": [
    "import os\n",
    "\n",
    "imgpaths = []\n",
    "\n",
    "for i in range(len(chapters)):\n",
    "    c = chapters[i]\n",
    "    csoup = BeautifulSoup(requests.get(url + c[\"url\"]).content, \"html.parser\")\n",
    "    main = csoup.find(\"main\")\n",
    "    cpath = f\"../src/routes/book/{i}/\"\n",
    "    if not os.path.exists(cpath):\n",
    "        os.makedirs(cpath)\n",
    "    #page = open(cpath + \"+page.svelte\", \"w\", encoding=\"UTF-8\")\n",
    "    #page.write(main.prettify())\n",
    "    for img in main.find_all(\"img\"):\n",
    "        imgpaths.append(img[\"src\"])\n",
    "\n",
    "    for j in range(len(c[\"sections\"])):\n",
    "        s = c[\"sections\"][j]\n",
    "        ssoup = BeautifulSoup(requests.get(url + s[\"url\"]).content, \"html.parser\")\n",
    "        main = ssoup.find(\"main\")\n",
    "        spath = cpath + f\"{j}/\"\n",
    "        if not os.path.exists(spath):\n",
    "            os.makedirs(spath)\n",
    "        #page = open(spath + \"+page.svelte\", \"w\", encoding=\"UTF-8\")\n",
    "        #page.write(main.prettify())\n",
    "        for img in main.find_all(\"img\"):\n",
    "            imgpaths.append(img[\"src\"])\n",
    "\n",
    "print(imgpaths)\n"
   ]
  },
  {
   "cell_type": "code",
   "execution_count": 12,
   "metadata": {},
   "outputs": [],
   "source": [
    "import shutil\n",
    "\n",
    "for url in imgpaths:\n",
    "    res = requests.get(\"https://doc.rust-lang.org/book/\" + url, stream=True)\n",
    "    if res.status_code == 200:\n",
    "        fpath = \"../static/\" + url\n",
    "        ffolder = os.path.dirname(os.path.realpath(fpath))\n",
    "        if not os.path.exists(ffolder):\n",
    "            os.makedirs(ffolder)\n",
    "        if fpath.endswith(\".svg\"):\n",
    "            with open(fpath, \"w\", encoding=\"UTF-8\") as f:\n",
    "                f.write(res.text)\n",
    "        else:\n",
    "            with open(fpath, \"wb\") as f:\n",
    "                shutil.copyfileobj(res.raw, f)\n",
    "    else:\n",
    "        print(\"Critical error!\")"
   ]
  },
  {
   "cell_type": "code",
   "execution_count": 11,
   "metadata": {},
   "outputs": [
    {
     "name": "stdout",
     "output_type": "stream",
     "text": [
      "<a class=\"nav-item\" href=\"/book/0\">The Rust Programming Language</a>\n",
      "<a class=\"nav-item\" href=\"/book/1\">Foreword</a>\n",
      "<a class=\"nav-item\" href=\"/book/2\">Introduction</a>\n",
      "<a class=\"nav-item\" href=\"/book/3\">1. Getting Started</a>\n",
      "<a class=\"nav-item pl-6\" href=\"/book/3/0\">1.1. Installation</a>\n",
      "<a class=\"nav-item pl-6\" href=\"/book/3/1\">1.2. Hello, World!</a>\n",
      "<a class=\"nav-item pl-6\" href=\"/book/3/2\">1.3. Hello, Cargo!</a>\n",
      "<a class=\"nav-item\" href=\"/book/4\">2. Programming a Guessing Game</a>\n",
      "<a class=\"nav-item\" href=\"/book/5\">3. Common Programming Concepts</a>\n",
      "<a class=\"nav-item pl-6\" href=\"/book/5/0\">3.1. Variables and Mutability</a>\n",
      "<a class=\"nav-item pl-6\" href=\"/book/5/1\">3.2. Data Types</a>\n",
      "<a class=\"nav-item pl-6\" href=\"/book/5/2\">3.3. Functions</a>\n",
      "<a class=\"nav-item pl-6\" href=\"/book/5/3\">3.4. Comments</a>\n",
      "<a class=\"nav-item pl-6\" href=\"/book/5/4\">3.5. Control Flow</a>\n",
      "<a class=\"nav-item\" href=\"/book/6\">4. Understanding Ownership</a>\n",
      "<a class=\"nav-item pl-6\" href=\"/book/6/0\">4.1. What is Ownership?</a>\n",
      "<a class=\"nav-item pl-6\" href=\"/book/6/1\">4.2. References and Borrowing</a>\n",
      "<a class=\"nav-item pl-6\" href=\"/book/6/2\">4.3. The Slice Type</a>\n",
      "<a class=\"nav-item\" href=\"/book/7\">5. Using Structs to Structure Related Data</a>\n",
      "<a class=\"nav-item pl-6\" href=\"/book/7/0\">5.1. Defining and Instantiating Structs</a>\n",
      "<a class=\"nav-item pl-6\" href=\"/book/7/1\">5.2. An Example Program Using Structs</a>\n",
      "<a class=\"nav-item pl-6\" href=\"/book/7/2\">5.3. Method Syntax</a>\n",
      "<a class=\"nav-item\" href=\"/book/8\">6. Enums and Pattern Matching</a>\n",
      "<a class=\"nav-item pl-6\" href=\"/book/8/0\">6.1. Defining an Enum</a>\n",
      "<a class=\"nav-item pl-6\" href=\"/book/8/1\">6.2. The match Control Flow Construct</a>\n",
      "<a class=\"nav-item pl-6\" href=\"/book/8/2\">6.3. Concise Control Flow with if let</a>\n",
      "<a class=\"nav-item\" href=\"/book/9\">7. Managing Growing Projects with Packages, Crates, and Modules</a>\n",
      "<a class=\"nav-item pl-6\" href=\"/book/9/0\">7.1. Packages and Crates</a>\n",
      "<a class=\"nav-item pl-6\" href=\"/book/9/1\">7.2. Defining Modules to Control Scope and Privacy</a>\n",
      "<a class=\"nav-item pl-6\" href=\"/book/9/2\">7.3. Paths for Referring to an Item in the Module Tree</a>\n",
      "<a class=\"nav-item pl-6\" href=\"/book/9/3\">7.4. Bringing Paths Into Scope with the use Keyword</a>\n",
      "<a class=\"nav-item pl-6\" href=\"/book/9/4\">7.5. Separating Modules into Different Files</a>\n",
      "<a class=\"nav-item\" href=\"/book/10\">8. Common Collections</a>\n",
      "<a class=\"nav-item pl-6\" href=\"/book/10/0\">8.1. Storing Lists of Values with Vectors</a>\n",
      "<a class=\"nav-item pl-6\" href=\"/book/10/1\">8.2. Storing UTF-8 Encoded Text with Strings</a>\n",
      "<a class=\"nav-item pl-6\" href=\"/book/10/2\">8.3. Storing Keys with Associated Values in Hash Maps</a>\n",
      "<a class=\"nav-item\" href=\"/book/11\">9. Error Handling</a>\n",
      "<a class=\"nav-item pl-6\" href=\"/book/11/0\">9.1. Unrecoverable Errors with panic!</a>\n",
      "<a class=\"nav-item pl-6\" href=\"/book/11/1\">9.2. Recoverable Errors with Result</a>\n",
      "<a class=\"nav-item pl-6\" href=\"/book/11/2\">9.3. To panic! or Not to panic!</a>\n",
      "<a class=\"nav-item\" href=\"/book/12\">10. Generic Types, Traits, and Lifetimes</a>\n",
      "<a class=\"nav-item pl-6\" href=\"/book/12/0\">10.1. Generic Data Types</a>\n",
      "<a class=\"nav-item pl-6\" href=\"/book/12/1\">10.2. Traits: Defining Shared Behavior</a>\n",
      "<a class=\"nav-item pl-6\" href=\"/book/12/2\">10.3. Validating References with Lifetimes</a>\n",
      "<a class=\"nav-item\" href=\"/book/13\">11. Writing Automated Tests</a>\n",
      "<a class=\"nav-item pl-6\" href=\"/book/13/0\">11.1. How to Write Tests</a>\n",
      "<a class=\"nav-item pl-6\" href=\"/book/13/1\">11.2. Controlling How Tests Are Run</a>\n",
      "<a class=\"nav-item pl-6\" href=\"/book/13/2\">11.3. Test Organization</a>\n",
      "<a class=\"nav-item\" href=\"/book/14\">12. An I/O Project: Building a Command Line Program</a>\n",
      "<a class=\"nav-item pl-6\" href=\"/book/14/0\">12.1. Accepting Command Line Arguments</a>\n",
      "<a class=\"nav-item pl-6\" href=\"/book/14/1\">12.2. Reading a File</a>\n",
      "<a class=\"nav-item pl-6\" href=\"/book/14/2\">12.3. Refactoring to Improve Modularity and Error Handling</a>\n",
      "<a class=\"nav-item pl-6\" href=\"/book/14/3\">12.4. Developing the Library’s Functionality with Test Driven Development</a>\n",
      "<a class=\"nav-item pl-6\" href=\"/book/14/4\">12.5. Working with Environment Variables</a>\n",
      "<a class=\"nav-item pl-6\" href=\"/book/14/5\">12.6. Writing Error Messages to Standard Error Instead of Standard Output</a>\n",
      "<a class=\"nav-item\" href=\"/book/15\">13. Functional Language Features: Iterators and Closures</a>\n",
      "<a class=\"nav-item pl-6\" href=\"/book/15/0\">13.1. Closures: Anonymous Functions that Capture Their Environment</a>\n",
      "<a class=\"nav-item pl-6\" href=\"/book/15/1\">13.2. Processing a Series of Items with Iterators</a>\n",
      "<a class=\"nav-item pl-6\" href=\"/book/15/2\">13.3. Improving Our I/O Project</a>\n",
      "<a class=\"nav-item pl-6\" href=\"/book/15/3\">13.4. Comparing Performance: Loops vs. Iterators</a>\n",
      "<a class=\"nav-item\" href=\"/book/16\">14. More about Cargo and Crates.io</a>\n",
      "<a class=\"nav-item pl-6\" href=\"/book/16/0\">14.1. Customizing Builds with Release Profiles</a>\n",
      "<a class=\"nav-item pl-6\" href=\"/book/16/1\">14.2. Publishing a Crate to Crates.io</a>\n",
      "<a class=\"nav-item pl-6\" href=\"/book/16/2\">14.3. Cargo Workspaces</a>\n",
      "<a class=\"nav-item pl-6\" href=\"/book/16/3\">14.4. Installing Binaries from Crates.io with cargo install</a>\n",
      "<a class=\"nav-item pl-6\" href=\"/book/16/4\">14.5. Extending Cargo with Custom Commands</a>\n",
      "<a class=\"nav-item\" href=\"/book/17\">15. Smart Pointers</a>\n",
      "<a class=\"nav-item pl-6\" href=\"/book/17/0\">15.1. Using Box<T> to Point to Data on the Heap</a>\n",
      "<a class=\"nav-item pl-6\" href=\"/book/17/1\">15.2. Treating Smart Pointers Like Regular References with the Deref Trait</a>\n",
      "<a class=\"nav-item pl-6\" href=\"/book/17/2\">15.3. Running Code on Cleanup with the Drop Trait</a>\n",
      "<a class=\"nav-item pl-6\" href=\"/book/17/3\">15.4. Rc<T>, the Reference Counted Smart Pointer</a>\n",
      "<a class=\"nav-item pl-6\" href=\"/book/17/4\">15.5. RefCell<T> and the Interior Mutability Pattern</a>\n",
      "<a class=\"nav-item pl-6\" href=\"/book/17/5\">15.6. Reference Cycles Can Leak Memory</a>\n",
      "<a class=\"nav-item\" href=\"/book/18\">16. Fearless Concurrency</a>\n",
      "<a class=\"nav-item pl-6\" href=\"/book/18/0\">16.1. Using Threads to Run Code Simultaneously</a>\n",
      "<a class=\"nav-item pl-6\" href=\"/book/18/1\">16.2. Using Message Passing to Transfer Data Between Threads</a>\n",
      "<a class=\"nav-item pl-6\" href=\"/book/18/2\">16.3. Shared-State Concurrency</a>\n",
      "<a class=\"nav-item pl-6\" href=\"/book/18/3\">16.4. Extensible Concurrency with the Sync and Send Traits</a>\n",
      "<a class=\"nav-item\" href=\"/book/19\">17. Object Oriented Programming Features of Rust</a>\n",
      "<a class=\"nav-item pl-6\" href=\"/book/19/0\">17.1. Characteristics of Object-Oriented Languages</a>\n",
      "<a class=\"nav-item pl-6\" href=\"/book/19/1\">17.2. Using Trait Objects That Allow for Values of Different Types</a>\n",
      "<a class=\"nav-item pl-6\" href=\"/book/19/2\">17.3. Implementing an Object-Oriented Design Pattern</a>\n",
      "<a class=\"nav-item\" href=\"/book/20\">18. Patterns and Matching</a>\n",
      "<a class=\"nav-item pl-6\" href=\"/book/20/0\">18.1. All the Places Patterns Can Be Used</a>\n",
      "<a class=\"nav-item pl-6\" href=\"/book/20/1\">18.2. Refutability: Whether a Pattern Might Fail to Match</a>\n",
      "<a class=\"nav-item pl-6\" href=\"/book/20/2\">18.3. Pattern Syntax</a>\n",
      "<a class=\"nav-item\" href=\"/book/21\">19. Advanced Features</a>\n",
      "<a class=\"nav-item pl-6\" href=\"/book/21/0\">19.1. Unsafe Rust</a>\n",
      "<a class=\"nav-item pl-6\" href=\"/book/21/1\">19.2. Advanced Traits</a>\n",
      "<a class=\"nav-item pl-6\" href=\"/book/21/2\">19.3. Advanced Types</a>\n",
      "<a class=\"nav-item pl-6\" href=\"/book/21/3\">19.4. Advanced Functions and Closures</a>\n",
      "<a class=\"nav-item pl-6\" href=\"/book/21/4\">19.5. Macros</a>\n",
      "<a class=\"nav-item\" href=\"/book/22\">20. Final Project: Building a Multithreaded Web Server</a>\n",
      "<a class=\"nav-item pl-6\" href=\"/book/22/0\">20.1. Building a Single-Threaded Web Server</a>\n",
      "<a class=\"nav-item pl-6\" href=\"/book/22/1\">20.2. Turning Our Single-Threaded Server into a Multithreaded Server</a>\n",
      "<a class=\"nav-item pl-6\" href=\"/book/22/2\">20.3. Graceful Shutdown and Cleanup</a>\n",
      "\n"
     ]
    }
   ],
   "source": [
    "result = \"\"\n",
    "\n",
    "for i in range(len(chapters)):\n",
    "    c = chapters[i]\n",
    "    result += f'<a class=\"nav-item\" href=\"/book/{i}\">{c[\"text\"]}</a>\\n'\n",
    "    for j in range(len(c[\"sections\"])):\n",
    "        s = c[\"sections\"][j]\n",
    "        result += f'<a class=\"nav-item pl-6\" href=\"/book/{i}/{j}\">{s[\"text\"]}</a>\\n'\n",
    "\n",
    "print(result)"
   ]
  }
 ],
 "metadata": {
  "kernelspec": {
   "display_name": "Python 3",
   "language": "python",
   "name": "python3"
  },
  "language_info": {
   "codemirror_mode": {
    "name": "ipython",
    "version": 3
   },
   "file_extension": ".py",
   "mimetype": "text/x-python",
   "name": "python",
   "nbconvert_exporter": "python",
   "pygments_lexer": "ipython3",
   "version": "3.11.8"
  }
 },
 "nbformat": 4,
 "nbformat_minor": 2
}
